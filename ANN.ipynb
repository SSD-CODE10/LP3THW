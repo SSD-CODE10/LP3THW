{
 "cells": [
  {
   "attachments": {},
   "cell_type": "markdown",
   "metadata": {},
   "source": [
    "## Artificial Neural Network"
   ]
  },
  {
   "cell_type": "code",
   "execution_count": 1,
   "metadata": {},
   "outputs": [
    {
     "data": {
      "text/plain": [
       "'2.12.0'"
      ]
     },
     "execution_count": 1,
     "metadata": {},
     "output_type": "execute_result"
    }
   ],
   "source": [
    "#Importing the libraries\n",
    "import numpy as np\n",
    "import pandas as pd\n",
    "import tensorflow as tf\n",
    "tf.__version__"
   ]
  },
  {
   "attachments": {},
   "cell_type": "markdown",
   "metadata": {},
   "source": [
    "### Part 1 - Data preprocessing"
   ]
  },
  {
   "cell_type": "code",
   "execution_count": 2,
   "metadata": {},
   "outputs": [
    {
     "name": "stdout",
     "output_type": "stream",
     "text": [
      "[[619 'France' 'Female' ... 1 1 101348.88]\n",
      " [608 'Spain' 'Female' ... 0 1 112542.58]\n",
      " [502 'France' 'Female' ... 1 0 113931.57]\n",
      " ...\n",
      " [709 'France' 'Female' ... 0 1 42085.58]\n",
      " [772 'Germany' 'Male' ... 1 0 92888.52]\n",
      " [792 'France' 'Female' ... 1 0 38190.78]]\n",
      "[1 0 1 ... 1 1 0]\n"
     ]
    }
   ],
   "source": [
    "# Importing the dataset\n",
    "dataset = pd.read_csv('Churn_Modelling.csv')\n",
    "X = dataset.iloc[:, 3:-1].values\n",
    "y = dataset.iloc[:, -1].values\n",
    "print(X)\n",
    "print(y)"
   ]
  },
  {
   "cell_type": "code",
   "execution_count": 3,
   "metadata": {},
   "outputs": [
    {
     "name": "stdout",
     "output_type": "stream",
     "text": [
      "[[619 'France' 0 ... 1 1 101348.88]\n",
      " [608 'Spain' 0 ... 0 1 112542.58]\n",
      " [502 'France' 0 ... 1 0 113931.57]\n",
      " ...\n",
      " [709 'France' 0 ... 0 1 42085.58]\n",
      " [772 'Germany' 1 ... 1 0 92888.52]\n",
      " [792 'France' 0 ... 1 0 38190.78]]\n",
      "[1 0 1 ... 1 1 0]\n"
     ]
    }
   ],
   "source": [
    "#Encoding categorical data\n",
    "#Label Encoding the \"Gender\" column\n",
    "from sklearn.preprocessing import LabelEncoder\n",
    "le = LabelEncoder()\n",
    "X[:, 2] = le.fit_transform(X[:, 2])\n",
    "print(X)\n",
    "#One hot encoding the \"geography\" column\n",
    "from sklearn.compose import ColumnTransformer\n",
    "from sklearn.preprocessing import OneHotEncoder\n",
    "ct = ColumnTransformer(transformers=[('encoder', OneHotEncoder(), [1])],\n",
    "                       remainder='passthrough')\n",
    "X = np.array(ct.fit_transform(X))\n",
    "print(y)"
   ]
  },
  {
   "cell_type": "code",
   "execution_count": 4,
   "metadata": {},
   "outputs": [],
   "source": [
    "#Splitting the dataset into the training set and test set\n",
    "from sklearn.model_selection import train_test_split\n",
    "X_train, X_test, y_train, y_test = train_test_split(X, y, test_size= 0.2,\n",
    "                                                    random_state=0) "
   ]
  },
  {
   "cell_type": "code",
   "execution_count": 5,
   "metadata": {},
   "outputs": [],
   "source": [
    "#Featurinf scaling\n",
    "from sklearn.preprocessing import StandardScaler\n",
    "sc= StandardScaler()\n",
    "X_train = sc.fit_transform(X_train)\n",
    "X_test = sc.transform(X_test)"
   ]
  },
  {
   "attachments": {},
   "cell_type": "markdown",
   "metadata": {},
   "source": [
    "### Part 2 - Builing the ANN"
   ]
  },
  {
   "cell_type": "code",
   "execution_count": 6,
   "metadata": {},
   "outputs": [],
   "source": [
    "#Iniatializing the ANN\n",
    "ann = tf.keras.models.Sequential()"
   ]
  },
  {
   "cell_type": "code",
   "execution_count": 7,
   "metadata": {},
   "outputs": [],
   "source": [
    "#Adding the input layer and the first hidden layer\n",
    "ann.add(tf.keras.layers.Dense(units=6, activation='relu'))"
   ]
  },
  {
   "cell_type": "code",
   "execution_count": 8,
   "metadata": {},
   "outputs": [],
   "source": [
    "#Adding the second hidden layer\n",
    "ann.add(tf.keras.layers.Dense(units=6, activation='relu'))"
   ]
  },
  {
   "cell_type": "code",
   "execution_count": 9,
   "metadata": {},
   "outputs": [],
   "source": [
    "#Adding the output layer\n",
    "ann.add(tf.keras.layers.Dense(units=1, activation='sigmoid'))"
   ]
  },
  {
   "attachments": {},
   "cell_type": "markdown",
   "metadata": {},
   "source": [
    "### Part 3 - Training the ANN"
   ]
  },
  {
   "cell_type": "code",
   "execution_count": 10,
   "metadata": {},
   "outputs": [],
   "source": [
    "# Compiling the ANN\n",
    "ann.compile(optimizer='adam', loss='binary_crossentropy', metrics=['accuracy'])"
   ]
  },
  {
   "cell_type": "code",
   "execution_count": 11,
   "metadata": {},
   "outputs": [
    {
     "name": "stdout",
     "output_type": "stream",
     "text": [
      "Epoch 1/100\n",
      "250/250 [==============================] - 1s 771us/step - loss: 0.7572 - accuracy: 0.4724\n",
      "Epoch 2/100\n",
      "250/250 [==============================] - 0s 745us/step - loss: 0.5957 - accuracy: 0.7897\n",
      "Epoch 3/100\n",
      "250/250 [==============================] - 0s 755us/step - loss: 0.5021 - accuracy: 0.7962\n",
      "Epoch 4/100\n",
      "250/250 [==============================] - 0s 772us/step - loss: 0.4527 - accuracy: 0.8006\n",
      "Epoch 5/100\n",
      "250/250 [==============================] - 0s 729us/step - loss: 0.4324 - accuracy: 0.8096\n",
      "Epoch 6/100\n",
      "250/250 [==============================] - 0s 806us/step - loss: 0.4222 - accuracy: 0.8136\n",
      "Epoch 7/100\n",
      "250/250 [==============================] - 0s 737us/step - loss: 0.4164 - accuracy: 0.8154\n",
      "Epoch 8/100\n",
      "250/250 [==============================] - 0s 709us/step - loss: 0.4124 - accuracy: 0.8189\n",
      "Epoch 9/100\n",
      "250/250 [==============================] - 0s 733us/step - loss: 0.4094 - accuracy: 0.8195\n",
      "Epoch 10/100\n",
      "250/250 [==============================] - 0s 721us/step - loss: 0.4064 - accuracy: 0.8194\n",
      "Epoch 11/100\n",
      "250/250 [==============================] - 0s 737us/step - loss: 0.4035 - accuracy: 0.8211\n",
      "Epoch 12/100\n",
      "250/250 [==============================] - 0s 772us/step - loss: 0.3982 - accuracy: 0.8224\n",
      "Epoch 13/100\n",
      "250/250 [==============================] - 0s 723us/step - loss: 0.3825 - accuracy: 0.8370\n",
      "Epoch 14/100\n",
      "250/250 [==============================] - 0s 717us/step - loss: 0.3698 - accuracy: 0.8432\n",
      "Epoch 15/100\n",
      "250/250 [==============================] - 0s 729us/step - loss: 0.3631 - accuracy: 0.8466\n",
      "Epoch 16/100\n",
      "250/250 [==============================] - 0s 713us/step - loss: 0.3592 - accuracy: 0.8475\n",
      "Epoch 17/100\n",
      "250/250 [==============================] - 0s 709us/step - loss: 0.3558 - accuracy: 0.8494\n",
      "Epoch 18/100\n",
      "250/250 [==============================] - 0s 751us/step - loss: 0.3539 - accuracy: 0.8506\n",
      "Epoch 19/100\n",
      "250/250 [==============================] - 0s 734us/step - loss: 0.3523 - accuracy: 0.8520\n",
      "Epoch 20/100\n",
      "250/250 [==============================] - 0s 701us/step - loss: 0.3508 - accuracy: 0.8524\n",
      "Epoch 21/100\n",
      "250/250 [==============================] - 0s 756us/step - loss: 0.3498 - accuracy: 0.8544\n",
      "Epoch 22/100\n",
      "250/250 [==============================] - 0s 705us/step - loss: 0.3485 - accuracy: 0.8564\n",
      "Epoch 23/100\n",
      "250/250 [==============================] - 0s 709us/step - loss: 0.3472 - accuracy: 0.8568\n",
      "Epoch 24/100\n",
      "250/250 [==============================] - 0s 713us/step - loss: 0.3460 - accuracy: 0.8574\n",
      "Epoch 25/100\n",
      "250/250 [==============================] - 0s 717us/step - loss: 0.3456 - accuracy: 0.8576\n",
      "Epoch 26/100\n",
      "250/250 [==============================] - 0s 717us/step - loss: 0.3449 - accuracy: 0.8584\n",
      "Epoch 27/100\n",
      "250/250 [==============================] - 0s 725us/step - loss: 0.3440 - accuracy: 0.8591\n",
      "Epoch 28/100\n",
      "250/250 [==============================] - 0s 793us/step - loss: 0.3436 - accuracy: 0.8590\n",
      "Epoch 29/100\n",
      "250/250 [==============================] - 0s 701us/step - loss: 0.3428 - accuracy: 0.8579\n",
      "Epoch 30/100\n",
      "250/250 [==============================] - 0s 706us/step - loss: 0.3420 - accuracy: 0.8594\n",
      "Epoch 31/100\n",
      "250/250 [==============================] - 0s 724us/step - loss: 0.3416 - accuracy: 0.8611\n",
      "Epoch 32/100\n",
      "250/250 [==============================] - 0s 718us/step - loss: 0.3409 - accuracy: 0.8610\n",
      "Epoch 33/100\n",
      "250/250 [==============================] - 0s 745us/step - loss: 0.3405 - accuracy: 0.8616\n",
      "Epoch 34/100\n",
      "250/250 [==============================] - 0s 717us/step - loss: 0.3401 - accuracy: 0.8609\n",
      "Epoch 35/100\n",
      "250/250 [==============================] - 0s 709us/step - loss: 0.3394 - accuracy: 0.8600\n",
      "Epoch 36/100\n",
      "250/250 [==============================] - 0s 733us/step - loss: 0.3388 - accuracy: 0.8624\n",
      "Epoch 37/100\n",
      "250/250 [==============================] - 0s 717us/step - loss: 0.3385 - accuracy: 0.8619\n",
      "Epoch 38/100\n",
      "250/250 [==============================] - 0s 713us/step - loss: 0.3381 - accuracy: 0.8633\n",
      "Epoch 39/100\n",
      "250/250 [==============================] - 0s 736us/step - loss: 0.3379 - accuracy: 0.8630\n",
      "Epoch 40/100\n",
      "250/250 [==============================] - 0s 746us/step - loss: 0.3374 - accuracy: 0.8640\n",
      "Epoch 41/100\n",
      "250/250 [==============================] - 0s 701us/step - loss: 0.3371 - accuracy: 0.8606\n",
      "Epoch 42/100\n",
      "250/250 [==============================] - 0s 713us/step - loss: 0.3370 - accuracy: 0.8622\n",
      "Epoch 43/100\n",
      "250/250 [==============================] - 0s 713us/step - loss: 0.3365 - accuracy: 0.8639\n",
      "Epoch 44/100\n",
      "250/250 [==============================] - 0s 709us/step - loss: 0.3359 - accuracy: 0.8622\n",
      "Epoch 45/100\n",
      "250/250 [==============================] - 0s 716us/step - loss: 0.3359 - accuracy: 0.8646\n",
      "Epoch 46/100\n",
      "250/250 [==============================] - 0s 693us/step - loss: 0.3354 - accuracy: 0.8622\n",
      "Epoch 47/100\n",
      "250/250 [==============================] - 0s 730us/step - loss: 0.3348 - accuracy: 0.8644\n",
      "Epoch 48/100\n",
      "250/250 [==============================] - 0s 709us/step - loss: 0.3347 - accuracy: 0.8634\n",
      "Epoch 49/100\n",
      "250/250 [==============================] - 0s 725us/step - loss: 0.3347 - accuracy: 0.8641\n",
      "Epoch 50/100\n",
      "250/250 [==============================] - 0s 705us/step - loss: 0.3345 - accuracy: 0.8649\n",
      "Epoch 51/100\n",
      "250/250 [==============================] - 0s 729us/step - loss: 0.3344 - accuracy: 0.8635\n",
      "Epoch 52/100\n",
      "250/250 [==============================] - 0s 785us/step - loss: 0.3340 - accuracy: 0.8636\n",
      "Epoch 53/100\n",
      "250/250 [==============================] - 0s 733us/step - loss: 0.3340 - accuracy: 0.8637\n",
      "Epoch 54/100\n",
      "250/250 [==============================] - 0s 917us/step - loss: 0.3339 - accuracy: 0.8633\n",
      "Epoch 55/100\n",
      "250/250 [==============================] - 0s 774us/step - loss: 0.3332 - accuracy: 0.8643\n",
      "Epoch 56/100\n",
      "250/250 [==============================] - 0s 733us/step - loss: 0.3333 - accuracy: 0.8661\n",
      "Epoch 57/100\n",
      "250/250 [==============================] - 0s 764us/step - loss: 0.3331 - accuracy: 0.8636\n",
      "Epoch 58/100\n",
      "250/250 [==============================] - 0s 823us/step - loss: 0.3331 - accuracy: 0.8635\n",
      "Epoch 59/100\n",
      "250/250 [==============================] - 0s 713us/step - loss: 0.3333 - accuracy: 0.8644\n",
      "Epoch 60/100\n",
      "250/250 [==============================] - 0s 725us/step - loss: 0.3332 - accuracy: 0.8636\n",
      "Epoch 61/100\n",
      "250/250 [==============================] - 0s 713us/step - loss: 0.3325 - accuracy: 0.8626\n",
      "Epoch 62/100\n",
      "250/250 [==============================] - 0s 749us/step - loss: 0.3325 - accuracy: 0.8636\n",
      "Epoch 63/100\n",
      "250/250 [==============================] - 0s 730us/step - loss: 0.3325 - accuracy: 0.8651\n",
      "Epoch 64/100\n",
      "250/250 [==============================] - 0s 738us/step - loss: 0.3325 - accuracy: 0.8639\n",
      "Epoch 65/100\n",
      "250/250 [==============================] - 0s 721us/step - loss: 0.3321 - accuracy: 0.8636\n",
      "Epoch 66/100\n",
      "250/250 [==============================] - 0s 733us/step - loss: 0.3325 - accuracy: 0.8640\n",
      "Epoch 67/100\n",
      "250/250 [==============================] - 0s 729us/step - loss: 0.3317 - accuracy: 0.8648\n",
      "Epoch 68/100\n",
      "250/250 [==============================] - 0s 745us/step - loss: 0.3317 - accuracy: 0.8634\n",
      "Epoch 69/100\n",
      "250/250 [==============================] - 0s 717us/step - loss: 0.3317 - accuracy: 0.8645\n",
      "Epoch 70/100\n",
      "250/250 [==============================] - 0s 725us/step - loss: 0.3314 - accuracy: 0.8644\n",
      "Epoch 71/100\n",
      "250/250 [==============================] - 0s 767us/step - loss: 0.3313 - accuracy: 0.8639\n",
      "Epoch 72/100\n",
      "250/250 [==============================] - 0s 830us/step - loss: 0.3313 - accuracy: 0.8635\n",
      "Epoch 73/100\n",
      "250/250 [==============================] - 0s 729us/step - loss: 0.3313 - accuracy: 0.8639\n",
      "Epoch 74/100\n",
      "250/250 [==============================] - 0s 733us/step - loss: 0.3309 - accuracy: 0.8645\n",
      "Epoch 75/100\n",
      "250/250 [==============================] - 0s 713us/step - loss: 0.3307 - accuracy: 0.8656\n",
      "Epoch 76/100\n",
      "250/250 [==============================] - 0s 741us/step - loss: 0.3312 - accuracy: 0.8654\n",
      "Epoch 77/100\n",
      "250/250 [==============================] - 0s 721us/step - loss: 0.3305 - accuracy: 0.8658\n",
      "Epoch 78/100\n",
      "250/250 [==============================] - 0s 716us/step - loss: 0.3306 - accuracy: 0.8651\n",
      "Epoch 79/100\n",
      "250/250 [==============================] - 0s 717us/step - loss: 0.3304 - accuracy: 0.8631\n",
      "Epoch 80/100\n",
      "250/250 [==============================] - 0s 731us/step - loss: 0.3305 - accuracy: 0.8641\n",
      "Epoch 81/100\n",
      "250/250 [==============================] - 0s 776us/step - loss: 0.3301 - accuracy: 0.8645\n",
      "Epoch 82/100\n",
      "250/250 [==============================] - 0s 713us/step - loss: 0.3302 - accuracy: 0.8652\n",
      "Epoch 83/100\n",
      "250/250 [==============================] - 0s 745us/step - loss: 0.3303 - accuracy: 0.8662\n",
      "Epoch 84/100\n",
      "250/250 [==============================] - 0s 751us/step - loss: 0.3302 - accuracy: 0.8654\n",
      "Epoch 85/100\n",
      "250/250 [==============================] - 0s 725us/step - loss: 0.3299 - accuracy: 0.8658\n",
      "Epoch 86/100\n",
      "250/250 [==============================] - 0s 705us/step - loss: 0.3303 - accuracy: 0.8648\n",
      "Epoch 87/100\n",
      "250/250 [==============================] - 0s 713us/step - loss: 0.3294 - accuracy: 0.8652\n",
      "Epoch 88/100\n",
      "250/250 [==============================] - 0s 717us/step - loss: 0.3296 - accuracy: 0.8668\n",
      "Epoch 89/100\n",
      "250/250 [==============================] - 0s 709us/step - loss: 0.3295 - accuracy: 0.8659\n",
      "Epoch 90/100\n",
      "250/250 [==============================] - 0s 729us/step - loss: 0.3294 - accuracy: 0.8660\n",
      "Epoch 91/100\n",
      "250/250 [==============================] - 0s 713us/step - loss: 0.3293 - accuracy: 0.8664\n",
      "Epoch 92/100\n",
      "250/250 [==============================] - 0s 721us/step - loss: 0.3295 - accuracy: 0.8659\n",
      "Epoch 93/100\n",
      "250/250 [==============================] - 0s 704us/step - loss: 0.3295 - accuracy: 0.8648\n",
      "Epoch 94/100\n",
      "250/250 [==============================] - 0s 697us/step - loss: 0.3287 - accuracy: 0.8651\n",
      "Epoch 95/100\n",
      "250/250 [==============================] - 0s 729us/step - loss: 0.3296 - accuracy: 0.8652\n",
      "Epoch 96/100\n",
      "250/250 [==============================] - 0s 701us/step - loss: 0.3289 - accuracy: 0.8656\n",
      "Epoch 97/100\n",
      "250/250 [==============================] - 0s 717us/step - loss: 0.3288 - accuracy: 0.8666\n",
      "Epoch 98/100\n",
      "250/250 [==============================] - 0s 737us/step - loss: 0.3291 - accuracy: 0.8658\n",
      "Epoch 99/100\n",
      "250/250 [==============================] - 0s 709us/step - loss: 0.3287 - accuracy: 0.8659\n",
      "Epoch 100/100\n",
      "250/250 [==============================] - 0s 713us/step - loss: 0.3286 - accuracy: 0.8669\n"
     ]
    },
    {
     "data": {
      "text/plain": [
       "<keras.callbacks.History at 0x22ecb9e1750>"
      ]
     },
     "execution_count": 11,
     "metadata": {},
     "output_type": "execute_result"
    }
   ],
   "source": [
    "# Training ANN on the training set\n",
    "ann.fit(X_train, y_train, batch_size=32, epochs=100)"
   ]
  },
  {
   "attachments": {},
   "cell_type": "markdown",
   "metadata": {},
   "source": [
    "### Part 4 - Making the predictions and evaluating the model"
   ]
  },
  {
   "cell_type": "code",
   "execution_count": 12,
   "metadata": {},
   "outputs": [
    {
     "name": "stdout",
     "output_type": "stream",
     "text": [
      "1/1 [==============================] - 0s 112ms/step\n",
      "[[False]]\n"
     ]
    }
   ],
   "source": [
    "#Predicting the result of a single observation\n",
    "print(ann.predict(sc.transform([[1,0,0,600,1,40,3,60000,2,1,1,50000]]))> 0.5)"
   ]
  },
  {
   "cell_type": "code",
   "execution_count": 13,
   "metadata": {},
   "outputs": [
    {
     "name": "stdout",
     "output_type": "stream",
     "text": [
      "63/63 [==============================] - 0s 579us/step\n",
      "[[0 0]\n",
      " [0 1]\n",
      " [0 0]\n",
      " ...\n",
      " [0 0]\n",
      " [0 0]\n",
      " [0 0]]\n"
     ]
    }
   ],
   "source": [
    "# Predicting the test set results\n",
    "y_pred = ann.predict(X_test)\n",
    "y_pred = (y_pred > 0.5)\n",
    "print(np.concatenate((y_pred.reshape(len(y_pred),1),\n",
    "                      y_test.reshape(len(y_test),1)),1))"
   ]
  },
  {
   "cell_type": "code",
   "execution_count": 14,
   "metadata": {},
   "outputs": [
    {
     "name": "stdout",
     "output_type": "stream",
     "text": [
      "[[1521   74]\n",
      " [ 204  201]]\n"
     ]
    },
    {
     "data": {
      "text/plain": [
       "0.861"
      ]
     },
     "execution_count": 14,
     "metadata": {},
     "output_type": "execute_result"
    }
   ],
   "source": [
    "#Making the confusion matrix\n",
    "from sklearn.metrics import confusion_matrix, accuracy_score\n",
    "cm = confusion_matrix(y_test, y_pred)\n",
    "print(cm)\n",
    "accuracy_score(y_test, y_pred)"
   ]
  }
 ],
 "metadata": {
  "kernelspec": {
   "display_name": "Python 3",
   "language": "python",
   "name": "python3"
  },
  "language_info": {
   "codemirror_mode": {
    "name": "ipython",
    "version": 3
   },
   "file_extension": ".py",
   "mimetype": "text/x-python",
   "name": "python",
   "nbconvert_exporter": "python",
   "pygments_lexer": "ipython3",
   "version": "3.11.2"
  },
  "orig_nbformat": 4
 },
 "nbformat": 4,
 "nbformat_minor": 2
}
